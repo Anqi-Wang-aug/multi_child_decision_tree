{
 "cells": [
  {
   "cell_type": "code",
   "execution_count": 277,
   "metadata": {},
   "outputs": [],
   "source": [
    "class dTreeNode():\n",
    "    def __init__(self, value=None):\n",
    "        self.data = value\n",
    "        self.children = []\n",
    "        self.parent = None\n",
    "    \n",
    "    def addNode(self, parent, newChild):\n",
    "        #print(parent.data)\n",
    "        newChild.parent = parent\n",
    "        parent.children.append(newChild)\n",
    "    \n",
    "    def traverse(self):\n",
    "        print(self.data)\n",
    "        for c in self.children:\n",
    "            c.traverse()\n",
    "    \n",
    "    def all_branches(self, stack, last_visited, dictionary_list, index):\n",
    "        #print('Dictionary_list:', dictionary_list)\n",
    "        #print('Stack: ', stack)\n",
    "        #print(self.data)\n",
    "        if self.data not in stack: \n",
    "            stack.append(self.data)\n",
    "            #print(self.data)\n",
    "        else: return \n",
    "        if len(self.children)==0:\n",
    "            #print(stack)\n",
    "            path = {}\n",
    "            for i in index:\n",
    "                path[i] = None\n",
    "            c = 0\n",
    "            for k in path.keys():\n",
    "                path[k] = stack[c]\n",
    "                c+=1\n",
    "            dictionary_list.append(path)\n",
    "            stack.pop()\n",
    "            if self.parent and self.parent.children[-1].data==last_visited: \n",
    "                stack.pop()\n",
    "        for c in self.children:\n",
    "            c.all_branches(stack, c.data, dictionary_list, index)\n",
    "        return dictionary_list\n",
    "            "
   ]
  },
  {
   "cell_type": "code",
   "execution_count": 278,
   "metadata": {},
   "outputs": [
    {
     "name": "stdout",
     "output_type": "stream",
     "text": [
      "(5, 2)\n",
      "[{'A': (5, 2), 'B': ('A', 3), 'C': (2, 3), 'D': (2, 100)}, {'A': (5, 2), 'B': ('A', 3), 'C': (2, 3), 'D': (20000, 1000)}, {'A': (5, 2), 'B': ('A', 3), 'C': (4, 2), 'D': (2, 100)}, {'A': (5, 2), 'B': ('A', 3), 'C': (4, 2), 'D': (20000, 1000)}, {'A': (5, 2), 'B': ('A', 3), 'C': (0, 10), 'D': (2, 100)}, {'A': (5, 2), 'B': ('A', 3), 'C': (0, 10), 'D': (20000, 1000)}, {'A': (5, 2), 'B': ('A', 3), 'C': (11, 9), 'D': (2, 100)}, {'A': (5, 2), 'B': ('A', 3), 'C': (11, 9), 'D': (20000, 1000)}, {'A': (5, 2), 'B': ('A', 3), 'C': (8, 7), 'D': (2, 100)}, {'A': (5, 2), 'B': ('A', 3), 'C': (8, 7), 'D': (20000, 1000)}, {'A': (5, 2), 'B': ('A', 3), 'C': ('B', 1), 'D': (2, 3)}, {'A': (5, 2), 'B': ('A', 3), 'C': ('B', 1), 'D': (2, 3)}, {'A': (5, 2), 'B': ('A', 3), 'C': ('B', 1), 'D': (4, 2)}, {'A': (5, 2), 'B': ('A', 3), 'C': ('B', 1), 'D': (4, 2)}, {'A': (5, 2), 'B': ('A', 3), 'C': ('B', 1), 'D': (0, 10)}, {'A': (5, 2), 'B': ('A', 3), 'C': ('B', 1), 'D': (0, 10)}, {'A': (5, 2), 'B': ('A', 3), 'C': ('B', 1), 'D': (11, 9)}, {'A': (5, 2), 'B': ('A', 3), 'C': ('B', 1), 'D': (11, 9)}, {'A': (5, 2), 'B': ('A', 3), 'C': ('B', 1), 'D': (8, 7)}, {'A': (5, 2), 'B': ('A', 3), 'C': ('B', 1), 'D': (8, 7)}, {'A': (5, 2), 'B': ('A', 3), 'C': ('B', 1), 'D': ('C', 10)}, {'A': (5, 2), 'B': ('A', 3), 'C': ('B', 1), 'D': ('C', 10)}, {'A': (5, 2), 'B': ('A', 3), 'C': ('B', 1), 'D': ('C', 10)}, {'A': (5, 2), 'B': ('A', 3), 'C': ('B', 1), 'D': ('C', 10)}, {'A': (5, 2), 'B': ('A', 3), 'C': ('B', 1), 'D': ('C', 10)}, {'A': (5, 2), 'B': ('A', 3), 'C': ('B', 1), 'D': ('C', 10)}, {'A': (5, 2), 'B': ('A', 3), 'C': ('B', 1), 'D': ('C', 10)}, {'A': (5, 2), 'B': ('A', 3), 'C': ('B', 1), 'D': ('C', 10)}, {'A': (5, 2), 'B': ('A', 3), 'C': ('B', 1), 'D': ('C', 10)}, {'A': (5, 2), 'B': ('A', 3), 'C': ('B', 1), 'D': ('C', 10)}, {'A': (5, 2), 'B': ('A', 3), 'C': ('B', 1), 'D': ('C', 10)}, {'A': (5, 2), 'B': ('A', 3), 'C': ('B', 1), 'D': ('C', 10)}, {'A': (5, 2), 'B': ('A', 3), 'C': ('B', 1), 'D': ('C', 10)}, {'A': (5, 2), 'B': ('A', 3), 'C': ('B', 1), 'D': ('C', 10)}, {'A': (5, 2), 'B': ('A', 3), 'C': ('B', 1), 'D': ('C', 10)}, {'A': (5, 2), 'B': ('A', 3), 'C': ('B', 1), 'D': ('C', 10)}, {'A': (5, 2), 'B': ('A', 3), 'C': ('B', 1), 'D': ('C', 10)}, {'A': (5, 2), 'B': ('A', 3), 'C': ('B', 1), 'D': ('C', 10)}, {'A': (5, 2), 'B': ('A', 3), 'C': ('B', 1), 'D': ('C', 10)}, {'A': (5, 2), 'B': ('A', 3), 'C': ('B', 1), 'D': ('C', 10)}, {'A': (5, 2), 'B': ('A', 3), 'C': ('B', 1), 'D': ('C', 10)}, {'A': (5, 2), 'B': ('A', 3), 'C': ('B', 1), 'D': ('C', 10)}, {'A': (5, 2), 'B': ('A', 3), 'C': ('B', 1), 'D': ('C', 10)}, {'A': (5, 2), 'B': ('A', 3), 'C': ('B', 1), 'D': ('C', 10)}, {'A': (5, 2), 'B': ('A', 3), 'C': ('B', 1), 'D': ('C', 10)}, {'A': (5, 2), 'B': ('A', 3), 'C': ('B', 1), 'D': ('C', 10)}, {'A': (5, 2), 'B': ('A', 3), 'C': ('B', 1), 'D': ('C', 10)}, {'A': (5, 2), 'B': ('A', 3), 'C': ('B', 1), 'D': ('C', 10)}, {'A': (5, 2), 'B': ('A', 3), 'C': ('B', 1), 'D': ('C', 10)}, {'A': (5, 2), 'B': ('A', 3), 'C': ('B', 1), 'D': ('C', 10)}]\n"
     ]
    }
   ],
   "source": [
    "A = [(5,2), (3,1), (4, 2), (5, 10), (9, 11)]\n",
    "B = [('A', 3), ('B', 1), ('C', 10), ('D', 9), ('E',7)]\n",
    "C = [(2, 3), (4, 2), (0, 10), (11, 9), (8, 7)]\n",
    "D = [(2, 100), (20000, 1000)]\n",
    "\n",
    "coords = [A, B, C, D]\n",
    "\n",
    "def buildTree(root, children, i, MAX_I):\n",
    "    parent = root\n",
    "    #print(children)\n",
    "    if i<=MAX_I:\n",
    "        for c in children[i]:\n",
    "            parent.addNode(parent, dTreeNode(c))\n",
    "        for c in parent.children:\n",
    "            #print(c.data)\n",
    "            buildTree(c, children, i+1, MAX_I)\n",
    "    \n",
    "\n",
    "root = dTreeNode(A[0])\n",
    "buildTree(root, coords[1:], 0, 2)\n",
    "print(root.data)\n",
    "dl = []\n",
    "r = root.all_branches([], root.data, dl, ['A', 'B', 'C', 'D'])\n",
    "print(r)\n",
    "#print(root.max_branch())\n"
   ]
  },
  {
   "cell_type": "code",
   "execution_count": 279,
   "metadata": {},
   "outputs": [
    {
     "name": "stdout",
     "output_type": "stream",
     "text": [
      "(5, 2)\n",
      "('A', 3)\n",
      "(2, 3)\n",
      "(2, 100)\n",
      "(20000, 1000)\n",
      "(4, 2)\n",
      "(2, 100)\n",
      "(20000, 1000)\n",
      "(0, 10)\n",
      "(2, 100)\n",
      "(20000, 1000)\n",
      "(11, 9)\n",
      "(2, 100)\n",
      "(20000, 1000)\n",
      "(8, 7)\n",
      "(2, 100)\n",
      "(20000, 1000)\n",
      "('B', 1)\n",
      "(2, 3)\n",
      "(2, 100)\n",
      "(20000, 1000)\n",
      "(4, 2)\n",
      "(2, 100)\n",
      "(20000, 1000)\n",
      "(0, 10)\n",
      "(2, 100)\n",
      "(20000, 1000)\n",
      "(11, 9)\n",
      "(2, 100)\n",
      "(20000, 1000)\n",
      "(8, 7)\n",
      "(2, 100)\n",
      "(20000, 1000)\n",
      "('C', 10)\n",
      "(2, 3)\n",
      "(2, 100)\n",
      "(20000, 1000)\n",
      "(4, 2)\n",
      "(2, 100)\n",
      "(20000, 1000)\n",
      "(0, 10)\n",
      "(2, 100)\n",
      "(20000, 1000)\n",
      "(11, 9)\n",
      "(2, 100)\n",
      "(20000, 1000)\n",
      "(8, 7)\n",
      "(2, 100)\n",
      "(20000, 1000)\n",
      "('D', 9)\n",
      "(2, 3)\n",
      "(2, 100)\n",
      "(20000, 1000)\n",
      "(4, 2)\n",
      "(2, 100)\n",
      "(20000, 1000)\n",
      "(0, 10)\n",
      "(2, 100)\n",
      "(20000, 1000)\n",
      "(11, 9)\n",
      "(2, 100)\n",
      "(20000, 1000)\n",
      "(8, 7)\n",
      "(2, 100)\n",
      "(20000, 1000)\n",
      "('E', 7)\n",
      "(2, 3)\n",
      "(2, 100)\n",
      "(20000, 1000)\n",
      "(4, 2)\n",
      "(2, 100)\n",
      "(20000, 1000)\n",
      "(0, 10)\n",
      "(2, 100)\n",
      "(20000, 1000)\n",
      "(11, 9)\n",
      "(2, 100)\n",
      "(20000, 1000)\n",
      "(8, 7)\n",
      "(2, 100)\n",
      "(20000, 1000)\n"
     ]
    }
   ],
   "source": [
    "root.traverse()"
   ]
  },
  {
   "cell_type": "code",
   "execution_count": 280,
   "metadata": {},
   "outputs": [
    {
     "data": {
      "text/plain": [
       "'\\ndl = []\\nroot.all_branches([], root.data, dl)\\n'"
      ]
     },
     "execution_count": 280,
     "metadata": {},
     "output_type": "execute_result"
    }
   ],
   "source": [
    "'''\n",
    "dl = []\n",
    "root.all_branches([], root.data, dl)\n",
    "'''"
   ]
  }
 ],
 "metadata": {
  "kernelspec": {
   "display_name": "Python 3",
   "language": "python",
   "name": "python3"
  },
  "language_info": {
   "codemirror_mode": {
    "name": "ipython",
    "version": 3
   },
   "file_extension": ".py",
   "mimetype": "text/x-python",
   "name": "python",
   "nbconvert_exporter": "python",
   "pygments_lexer": "ipython3",
   "version": "3.10.11"
  },
  "orig_nbformat": 4
 },
 "nbformat": 4,
 "nbformat_minor": 2
}
